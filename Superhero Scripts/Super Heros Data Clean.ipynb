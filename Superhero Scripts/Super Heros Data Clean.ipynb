{
 "cells": [
  {
   "cell_type": "code",
   "execution_count": 1,
   "id": "ec0be6be",
   "metadata": {},
   "outputs": [],
   "source": [
    "import pandas as pd\n",
    "import numpy as np\n",
    "import seaborn as sns\n",
    "import matplotlib.pyplot as plt\n",
    "import matplotlib\n",
    "import os"
   ]
  },
  {
   "cell_type": "code",
   "execution_count": 2,
   "id": "6be80714",
   "metadata": {},
   "outputs": [],
   "source": [
    "path = r'/Users/ethanahennes/desktop/Unit 6/Data/'"
   ]
  },
  {
   "cell_type": "code",
   "execution_count": 4,
   "id": "15408c1d",
   "metadata": {},
   "outputs": [],
   "source": [
    "df = pd.read_csv(os.path.join(path,'Super Heros.csv'),index_col= False)"
   ]
  },
  {
   "cell_type": "code",
   "execution_count": 5,
   "id": "77a7e6ef",
   "metadata": {},
   "outputs": [
    {
     "data": {
      "text/html": [
       "<div>\n",
       "<style scoped>\n",
       "    .dataframe tbody tr th:only-of-type {\n",
       "        vertical-align: middle;\n",
       "    }\n",
       "\n",
       "    .dataframe tbody tr th {\n",
       "        vertical-align: top;\n",
       "    }\n",
       "\n",
       "    .dataframe thead th {\n",
       "        text-align: right;\n",
       "    }\n",
       "</style>\n",
       "<table border=\"1\" class=\"dataframe\">\n",
       "  <thead>\n",
       "    <tr style=\"text-align: right;\">\n",
       "      <th></th>\n",
       "      <th>Character</th>\n",
       "      <th>Alignment</th>\n",
       "      <th>Combat Level (1-100)</th>\n",
       "      <th>Creator</th>\n",
       "      <th>Ablity to Withstand Damage (1-100)</th>\n",
       "      <th>Eye_color</th>\n",
       "      <th>Gender</th>\n",
       "      <th>Hair_color</th>\n",
       "      <th>IQ</th>\n",
       "      <th>Intelligence (1-100)</th>\n",
       "      <th>Power Class (1-6)</th>\n",
       "      <th>Occupation</th>\n",
       "      <th>Overall Power (1-100)</th>\n",
       "      <th>Species</th>\n",
       "      <th>Speed (1-100)</th>\n",
       "      <th>Strength (1-100)</th>\n",
       "      <th>Super_power 1</th>\n",
       "      <th>Super_power 2</th>\n",
       "      <th>Super_power 3</th>\n",
       "    </tr>\n",
       "  </thead>\n",
       "  <tbody>\n",
       "    <tr>\n",
       "      <th>0</th>\n",
       "      <td>Alucard</td>\n",
       "      <td>Good</td>\n",
       "      <td>80</td>\n",
       "      <td>Konami</td>\n",
       "      <td>35</td>\n",
       "      <td>Red</td>\n",
       "      <td>Male</td>\n",
       "      <td>Blond</td>\n",
       "      <td>140</td>\n",
       "      <td>70</td>\n",
       "      <td>3</td>\n",
       "      <td>None</td>\n",
       "      <td>60</td>\n",
       "      <td>Human</td>\n",
       "      <td>30</td>\n",
       "      <td>30</td>\n",
       "      <td>Accelerated Healing</td>\n",
       "      <td>Agility</td>\n",
       "      <td>Berserk Mode</td>\n",
       "    </tr>\n",
       "    <tr>\n",
       "      <th>1</th>\n",
       "      <td>Alucard</td>\n",
       "      <td>Good</td>\n",
       "      <td>90</td>\n",
       "      <td>Konami</td>\n",
       "      <td>100</td>\n",
       "      <td>Gold</td>\n",
       "      <td>Male</td>\n",
       "      <td>White</td>\n",
       "      <td>160</td>\n",
       "      <td>80</td>\n",
       "      <td>6</td>\n",
       "      <td>Vampire Hunter</td>\n",
       "      <td>100</td>\n",
       "      <td>Vampire</td>\n",
       "      <td>100</td>\n",
       "      <td>100</td>\n",
       "      <td>Accelerated Healing</td>\n",
       "      <td>Acrobatics</td>\n",
       "      <td>Agility</td>\n",
       "    </tr>\n",
       "    <tr>\n",
       "      <th>2</th>\n",
       "      <td>Alucard</td>\n",
       "      <td>Good</td>\n",
       "      <td>100</td>\n",
       "      <td>None</td>\n",
       "      <td>45</td>\n",
       "      <td>Blue</td>\n",
       "      <td>Male</td>\n",
       "      <td>Blond</td>\n",
       "      <td>140</td>\n",
       "      <td>70</td>\n",
       "      <td>3</td>\n",
       "      <td>None</td>\n",
       "      <td>80</td>\n",
       "      <td>None</td>\n",
       "      <td>50</td>\n",
       "      <td>50</td>\n",
       "      <td>Accelerated Healing</td>\n",
       "      <td>Acrobatics</td>\n",
       "      <td>Agility</td>\n",
       "    </tr>\n",
       "    <tr>\n",
       "      <th>3</th>\n",
       "      <td>Bayonetta</td>\n",
       "      <td>Neutral</td>\n",
       "      <td>90</td>\n",
       "      <td>Sega</td>\n",
       "      <td>75</td>\n",
       "      <td>Grey</td>\n",
       "      <td>Female</td>\n",
       "      <td>Black</td>\n",
       "      <td>155</td>\n",
       "      <td>80</td>\n",
       "      <td>5</td>\n",
       "      <td>None</td>\n",
       "      <td>100</td>\n",
       "      <td>Human</td>\n",
       "      <td>50</td>\n",
       "      <td>55</td>\n",
       "      <td>Agility</td>\n",
       "      <td>Chain Manipulation</td>\n",
       "      <td>Durability</td>\n",
       "    </tr>\n",
       "    <tr>\n",
       "      <th>4</th>\n",
       "      <td>Adam</td>\n",
       "      <td>Good</td>\n",
       "      <td>40</td>\n",
       "      <td>None</td>\n",
       "      <td>15</td>\n",
       "      <td>Black</td>\n",
       "      <td>Male</td>\n",
       "      <td>Brown / Black</td>\n",
       "      <td>110</td>\n",
       "      <td>55</td>\n",
       "      <td>1</td>\n",
       "      <td>None</td>\n",
       "      <td>35</td>\n",
       "      <td>Human</td>\n",
       "      <td>10</td>\n",
       "      <td>25</td>\n",
       "      <td>Acrobatics</td>\n",
       "      <td>Agility</td>\n",
       "      <td>Durability</td>\n",
       "    </tr>\n",
       "  </tbody>\n",
       "</table>\n",
       "</div>"
      ],
      "text/plain": [
       "   Character Alignment  Combat Level (1-100) Creator  \\\n",
       "0    Alucard      Good                    80  Konami   \n",
       "1    Alucard      Good                    90  Konami   \n",
       "2    Alucard      Good                   100    None   \n",
       "3  Bayonetta   Neutral                    90    Sega   \n",
       "4       Adam      Good                    40    None   \n",
       "\n",
       "   Ablity to Withstand Damage (1-100) Eye_color  Gender     Hair_color   IQ  \\\n",
       "0                                  35       Red    Male          Blond  140   \n",
       "1                                 100      Gold    Male          White  160   \n",
       "2                                  45      Blue    Male          Blond  140   \n",
       "3                                  75      Grey  Female          Black  155   \n",
       "4                                  15     Black    Male  Brown / Black  110   \n",
       "\n",
       "   Intelligence (1-100)  Power Class (1-6)      Occupation  \\\n",
       "0                    70                  3            None   \n",
       "1                    80                  6  Vampire Hunter   \n",
       "2                    70                  3            None   \n",
       "3                    80                  5            None   \n",
       "4                    55                  1            None   \n",
       "\n",
       "   Overall Power (1-100)  Species  Speed (1-100)  Strength (1-100)  \\\n",
       "0                     60    Human             30                30   \n",
       "1                    100  Vampire            100               100   \n",
       "2                     80     None             50                50   \n",
       "3                    100    Human             50                55   \n",
       "4                     35    Human             10                25   \n",
       "\n",
       "         Super_power 1       Super_power 2 Super_power 3  \n",
       "0  Accelerated Healing             Agility  Berserk Mode  \n",
       "1  Accelerated Healing          Acrobatics       Agility  \n",
       "2  Accelerated Healing          Acrobatics       Agility  \n",
       "3              Agility  Chain Manipulation    Durability  \n",
       "4           Acrobatics             Agility    Durability  "
      ]
     },
     "execution_count": 5,
     "metadata": {},
     "output_type": "execute_result"
    }
   ],
   "source": [
    "df.head()"
   ]
  },
  {
   "cell_type": "code",
   "execution_count": 6,
   "id": "46fec313",
   "metadata": {},
   "outputs": [
    {
     "data": {
      "text/plain": [
       "(8311, 19)"
      ]
     },
     "execution_count": 6,
     "metadata": {},
     "output_type": "execute_result"
    }
   ],
   "source": [
    "df.shape"
   ]
  },
  {
   "cell_type": "code",
   "execution_count": 7,
   "id": "a993e86c",
   "metadata": {},
   "outputs": [
    {
     "data": {
      "text/plain": [
       "Index(['Character', 'Alignment', 'Combat Level (1-100)', 'Creator',\n",
       "       'Ablity to Withstand Damage (1-100)', 'Eye_color', 'Gender',\n",
       "       'Hair_color', 'IQ', 'Intelligence (1-100)', 'Power Class (1-6)',\n",
       "       'Occupation', 'Overall Power (1-100)', 'Species', 'Speed (1-100)',\n",
       "       'Strength (1-100)', 'Super_power 1', 'Super_power 2', 'Super_power 3'],\n",
       "      dtype='object')"
      ]
     },
     "execution_count": 7,
     "metadata": {},
     "output_type": "execute_result"
    }
   ],
   "source": [
    "df.columns"
   ]
  },
  {
   "cell_type": "code",
   "execution_count": 8,
   "id": "988074a8",
   "metadata": {},
   "outputs": [
    {
     "data": {
      "text/plain": [
       "Character                               0\n",
       "Alignment                               0\n",
       "Combat Level (1-100)                    0\n",
       "Creator                                 0\n",
       "Ablity to Withstand Damage (1-100)      0\n",
       "Eye_color                               0\n",
       "Gender                                  0\n",
       "Hair_color                              0\n",
       "IQ                                      0\n",
       "Intelligence (1-100)                    0\n",
       "Power Class (1-6)                       0\n",
       "Occupation                              0\n",
       "Overall Power (1-100)                   0\n",
       "Species                                 0\n",
       "Speed (1-100)                           0\n",
       "Strength (1-100)                        0\n",
       "Super_power 1                           0\n",
       "Super_power 2                         380\n",
       "Super_power 3                         583\n",
       "dtype: int64"
      ]
     },
     "execution_count": 8,
     "metadata": {},
     "output_type": "execute_result"
    }
   ],
   "source": [
    "df.isnull().sum()"
   ]
  },
  {
   "cell_type": "code",
   "execution_count": null,
   "id": "359e3c1c",
   "metadata": {},
   "outputs": [],
   "source": []
  }
 ],
 "metadata": {
  "kernelspec": {
   "display_name": "Python 3 (ipykernel)",
   "language": "python",
   "name": "python3"
  },
  "language_info": {
   "codemirror_mode": {
    "name": "ipython",
    "version": 3
   },
   "file_extension": ".py",
   "mimetype": "text/x-python",
   "name": "python",
   "nbconvert_exporter": "python",
   "pygments_lexer": "ipython3",
   "version": "3.9.12"
  }
 },
 "nbformat": 4,
 "nbformat_minor": 5
}
